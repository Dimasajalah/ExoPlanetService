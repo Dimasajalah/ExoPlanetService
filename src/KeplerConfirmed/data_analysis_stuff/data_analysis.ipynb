{
 "cells": [
  {
   "cell_type": "code",
   "execution_count": 1,
   "metadata": {},
   "outputs": [],
   "source": [
    "import pandas as pd"
   ]
  },
  {
   "cell_type": "code",
   "execution_count": 2,
   "metadata": {},
   "outputs": [],
   "source": [
    "df = pd.read_csv('kepler_confirmed.csv')\n"
   ]
  },
  {
   "cell_type": "code",
   "execution_count": 3,
   "metadata": {},
   "outputs": [],
   "source": [
    "def classify_planet(planet):\n",
    "    # Extract radius and mass from the planet data\n",
    "    planet_radius_earth = planet.get('pl_rade')  # in Earth radii\n",
    "    planet_radius_jupiter = planet.get('pl_radj')  # in Jupiter radii\n",
    "    planet_mass_earth = planet.get('pl_bmasse')  # in Earth masses\n",
    "    planet_mass_jupiter = planet.get('pl_bmassj')  # in Jupiter masses\n",
    "\n",
    "    # If only Jupiter-radius or Jupiter-mass is provided, convert to Earth equivalents\n",
    "    if planet_radius_jupiter:\n",
    "        planet_radius_earth = planet_radius_jupiter * 11.21  # 1 Jupiter radius = 11.21 Earth radii\n",
    "    if planet_mass_jupiter:\n",
    "        planet_mass_earth = planet_mass_jupiter * 317.8  # 1 Jupiter mass = 317.8 Earth masses\n",
    "\n",
    "    # Classification based on radius and mass\n",
    "    if planet_radius_earth:\n",
    "        if planet_radius_earth <= 1.5:\n",
    "            planet_type = 'Terrestrial (rocky planet like Earth)'\n",
    "        elif 1.5 < planet_radius_earth <= 2.0:\n",
    "            planet_type = 'Super-Earth (larger rocky planet)'\n",
    "        elif 2.0 < planet_radius_earth <= 4:\n",
    "            if planet_mass_earth and planet_mass_earth > 10:\n",
    "                planet_type = 'Mostly Gas (gas-dominant planet like Neptune)'\n",
    "            else:\n",
    "                planet_type = 'Neptune-like (gas planet like Neptune)'\n",
    "        elif planet_radius_earth > 4 and planet_radius_earth <= 10:\n",
    "            if planet_mass_earth and planet_mass_earth > 17:\n",
    "                planet_type = 'Mostly Gas (large gas-dominant planet)'\n",
    "            else:\n",
    "                planet_type = 'Neptune-like (large gas-dominant planet)'\n",
    "        elif planet_radius_earth > 10:\n",
    "            planet_type = 'Jupiter-like (gas giant like Jupiter)'\n",
    "        else:\n",
    "            planet_type = 'Unknown type (in between sizes)'\n",
    "    elif planet_mass_earth:\n",
    "        if planet_mass_earth <= 1.5:\n",
    "            planet_type = 'Terrestrial (based on mass)'\n",
    "        elif 1.5 < planet_mass_earth <= 10:\n",
    "            planet_type = 'Super-Earth (based on mass)'\n",
    "        elif 10 < planet_mass_earth <= 17:\n",
    "            planet_type = 'Neptune-like (based on mass)'\n",
    "        elif planet_mass_earth > 17 and planet_mass_earth <= 100:\n",
    "            planet_type = 'Mostly Gas (gas-dominant planet)'\n",
    "        elif planet_mass_earth > 100:\n",
    "            planet_type = 'Jupiter-like (gas giant like Jupiter)'\n",
    "        else:\n",
    "            planet_type = 'Unknown type (in between masses)'\n",
    "    else:\n",
    "        planet_type = 'Unknown type (insufficient data)'\n",
    "\n",
    "    return planet_type\n"
   ]
  },
  {
   "cell_type": "code",
   "execution_count": 4,
   "metadata": {},
   "outputs": [],
   "source": [
    "df['planet_classification'] = df.apply(classify_planet, axis=1)\n"
   ]
  },
  {
   "cell_type": "code",
   "execution_count": 5,
   "metadata": {},
   "outputs": [],
   "source": [
    "def approximate_color_hex(planet):\n",
    "    \"\"\"\n",
    "    Approximate the color of an exoplanet based on its equilibrium temperature\n",
    "    and the effective temperature of its host star, returning hexadecimal color values.\n",
    "    \n",
    "    Parameters:\n",
    "    - planet (dict): A dictionary containing exoplanet data.\n",
    "\n",
    "    Returns:\n",
    "    - str: Estimated color of the exoplanet in hexadecimal format.\n",
    "    \"\"\"\n",
    "    # Extract relevant data\n",
    "    pl_eqt = planet.get('pl_eqt')  # Equilibrium temperature in Kelvin\n",
    "    st_teff = planet.get('st_teff')  # Star's effective temperature in Kelvin\n",
    "\n",
    "    # Initialize color based on temperature with vibrant colors\n",
    "    if pl_eqt is not None:\n",
    "        if pl_eqt < 300:\n",
    "            return '#ADD8E6'  # Light Blue\n",
    "        elif 300 <= pl_eqt < 600:\n",
    "            return '#90EE90'  # Light Green\n",
    "        elif 600 <= pl_eqt < 900:\n",
    "            return '#FFD700'  # Gold (Warm Yellow)\n",
    "        elif 900 <= pl_eqt < 1200:\n",
    "            return '#FFA500'  # Orange\n",
    "        else:\n",
    "            return '#FF4500'  # Orange Red\n",
    "    elif st_teff is not None:\n",
    "        if st_teff < 4000:\n",
    "            return '#FF6347'  # Tomato (Red)\n",
    "        elif 4000 <= st_teff < 5700:\n",
    "            return '#FFD700'  # Gold (Yellow)\n",
    "        elif 5700 <= st_teff < 7500:\n",
    "            return '#FFFFFF'  # White\n",
    "        else:\n",
    "            return '#ADD8E6'  # Light Blue\n",
    "    \n",
    "    return '#808080'  "
   ]
  },
  {
   "cell_type": "code",
   "execution_count": 6,
   "metadata": {},
   "outputs": [],
   "source": [
    "df['planet_colour_approximation'] = df.apply(approximate_color_hex, axis=1)"
   ]
  },
  {
   "cell_type": "code",
   "execution_count": 7,
   "metadata": {},
   "outputs": [],
   "source": [
    "df.to_json('kepler_confirmed.json', orient='records')"
   ]
  }
 ],
 "metadata": {
  "kernelspec": {
   "display_name": "Python 3",
   "language": "python",
   "name": "python3"
  },
  "language_info": {
   "codemirror_mode": {
    "name": "ipython",
    "version": 3
   },
   "file_extension": ".py",
   "mimetype": "text/x-python",
   "name": "python",
   "nbconvert_exporter": "python",
   "pygments_lexer": "ipython3",
   "version": "3.12.0"
  }
 },
 "nbformat": 4,
 "nbformat_minor": 2
}
